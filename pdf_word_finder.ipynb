{
 "cells": [
  {
   "cell_type": "code",
   "execution_count": 15,
   "id": "75ed0552-8b19-41ba-9917-d96beedfbebe",
   "metadata": {},
   "outputs": [
    {
     "ename": "KeyboardInterrupt",
     "evalue": "",
     "output_type": "error",
     "traceback": [
      "\u001b[1;31m---------------------------------------------------------------------------\u001b[0m",
      "\u001b[1;31mKeyboardInterrupt\u001b[0m                         Traceback (most recent call last)",
      "Cell \u001b[1;32mIn[15], line 58\u001b[0m\n\u001b[0;32m     55\u001b[0m search_word \u001b[38;5;241m=\u001b[39m \u001b[38;5;124m\"\u001b[39m\u001b[38;5;124mHiago Expedito\u001b[39m\u001b[38;5;124m\"\u001b[39m\n\u001b[0;32m     57\u001b[0m \u001b[38;5;66;03m# Call the function to search for the word in the PDF files and generate the report\u001b[39;00m\n\u001b[1;32m---> 58\u001b[0m search_word_in_pdfs(folder_path, search_word)\n",
      "Cell \u001b[1;32mIn[15], line 22\u001b[0m, in \u001b[0;36msearch_word_in_pdfs\u001b[1;34m(folder_path, search_word)\u001b[0m\n\u001b[0;32m     19\u001b[0m page \u001b[38;5;241m=\u001b[39m pdf_reader\u001b[38;5;241m.\u001b[39mpages[page_number]\n\u001b[0;32m     21\u001b[0m \u001b[38;5;66;03m# Checks if the indicated word is on the page\u001b[39;00m\n\u001b[1;32m---> 22\u001b[0m \u001b[38;5;28;01mif\u001b[39;00m search_word\u001b[38;5;241m.\u001b[39mlower() \u001b[38;5;129;01min\u001b[39;00m page\u001b[38;5;241m.\u001b[39mextract_text()\u001b[38;5;241m.\u001b[39mlower():\n\u001b[0;32m     23\u001b[0m     report\u001b[38;5;241m.\u001b[39mappend(file)\n\u001b[0;32m     24\u001b[0m     \u001b[38;5;28;01mbreak\u001b[39;00m\n",
      "File \u001b[1;32m~\\AppData\\Local\\anaconda3\\Lib\\site-packages\\PyPDF2\\_page.py:1851\u001b[0m, in \u001b[0;36mPageObject.extract_text\u001b[1;34m(self, Tj_sep, TJ_sep, orientations, space_width, visitor_operand_before, visitor_operand_after, visitor_text, *args)\u001b[0m\n\u001b[0;32m   1848\u001b[0m \u001b[38;5;28;01mif\u001b[39;00m \u001b[38;5;28misinstance\u001b[39m(orientations, \u001b[38;5;28mint\u001b[39m):\n\u001b[0;32m   1849\u001b[0m     orientations \u001b[38;5;241m=\u001b[39m (orientations,)\n\u001b[1;32m-> 1851\u001b[0m \u001b[38;5;28;01mreturn\u001b[39;00m \u001b[38;5;28mself\u001b[39m\u001b[38;5;241m.\u001b[39m_extract_text(\n\u001b[0;32m   1852\u001b[0m     \u001b[38;5;28mself\u001b[39m,\n\u001b[0;32m   1853\u001b[0m     \u001b[38;5;28mself\u001b[39m\u001b[38;5;241m.\u001b[39mpdf,\n\u001b[0;32m   1854\u001b[0m     orientations,\n\u001b[0;32m   1855\u001b[0m     space_width,\n\u001b[0;32m   1856\u001b[0m     PG\u001b[38;5;241m.\u001b[39mCONTENTS,\n\u001b[0;32m   1857\u001b[0m     visitor_operand_before,\n\u001b[0;32m   1858\u001b[0m     visitor_operand_after,\n\u001b[0;32m   1859\u001b[0m     visitor_text,\n\u001b[0;32m   1860\u001b[0m )\n",
      "File \u001b[1;32m~\\AppData\\Local\\anaconda3\\Lib\\site-packages\\PyPDF2\\_page.py:1342\u001b[0m, in \u001b[0;36mPageObject._extract_text\u001b[1;34m(self, obj, pdf, orientations, space_width, content_key, visitor_operand_before, visitor_operand_after, visitor_text)\u001b[0m\n\u001b[0;32m   1340\u001b[0m \u001b[38;5;28;01mif\u001b[39;00m \u001b[38;5;124m\"\u001b[39m\u001b[38;5;124m/Font\u001b[39m\u001b[38;5;124m\"\u001b[39m \u001b[38;5;129;01min\u001b[39;00m resources_dict:\n\u001b[0;32m   1341\u001b[0m     \u001b[38;5;28;01mfor\u001b[39;00m f \u001b[38;5;129;01min\u001b[39;00m cast(DictionaryObject, resources_dict[\u001b[38;5;124m\"\u001b[39m\u001b[38;5;124m/Font\u001b[39m\u001b[38;5;124m\"\u001b[39m]):\n\u001b[1;32m-> 1342\u001b[0m         cmaps[f] \u001b[38;5;241m=\u001b[39m build_char_map(f, space_width, obj)\n\u001b[0;32m   1343\u001b[0m cmap: Tuple[\n\u001b[0;32m   1344\u001b[0m     Union[\u001b[38;5;28mstr\u001b[39m, Dict[\u001b[38;5;28mint\u001b[39m, \u001b[38;5;28mstr\u001b[39m]], Dict[\u001b[38;5;28mstr\u001b[39m, \u001b[38;5;28mstr\u001b[39m], \u001b[38;5;28mstr\u001b[39m, Optional[DictionaryObject]\n\u001b[0;32m   1345\u001b[0m ] \u001b[38;5;241m=\u001b[39m (\n\u001b[1;32m   (...)\u001b[0m\n\u001b[0;32m   1349\u001b[0m     \u001b[38;5;28;01mNone\u001b[39;00m,\n\u001b[0;32m   1350\u001b[0m )  \u001b[38;5;66;03m# (encoding,CMAP,font resource name,dictionary-object of font)\u001b[39;00m\n\u001b[0;32m   1351\u001b[0m \u001b[38;5;28;01mtry\u001b[39;00m:\n",
      "File \u001b[1;32m~\\AppData\\Local\\anaconda3\\Lib\\site-packages\\PyPDF2\\_cmap.py:23\u001b[0m, in \u001b[0;36mbuild_char_map\u001b[1;34m(font_name, space_width, obj)\u001b[0m\n\u001b[0;32m     13\u001b[0m \u001b[38;5;28;01mdef\u001b[39;00m \u001b[38;5;21mbuild_char_map\u001b[39m(\n\u001b[0;32m     14\u001b[0m     font_name: \u001b[38;5;28mstr\u001b[39m, space_width: \u001b[38;5;28mfloat\u001b[39m, obj: DictionaryObject\n\u001b[0;32m     15\u001b[0m ) \u001b[38;5;241m-\u001b[39m\u001b[38;5;241m>\u001b[39m Tuple[\n\u001b[0;32m     16\u001b[0m     \u001b[38;5;28mstr\u001b[39m, \u001b[38;5;28mfloat\u001b[39m, Union[\u001b[38;5;28mstr\u001b[39m, Dict[\u001b[38;5;28mint\u001b[39m, \u001b[38;5;28mstr\u001b[39m]], Dict, DictionaryObject\n\u001b[0;32m     17\u001b[0m ]:  \u001b[38;5;66;03m# font_type,space_width /2, encoding, cmap\u001b[39;00m\n\u001b[0;32m     18\u001b[0m \u001b[38;5;250m    \u001b[39m\u001b[38;5;124;03m\"\"\"Determine information about a font.\u001b[39;00m\n\u001b[0;32m     19\u001b[0m \n\u001b[0;32m     20\u001b[0m \u001b[38;5;124;03m    This function returns a tuple consisting of:\u001b[39;00m\n\u001b[0;32m     21\u001b[0m \u001b[38;5;124;03m    font sub-type, space_width/2, encoding, map character-map, font-dictionary.\u001b[39;00m\n\u001b[0;32m     22\u001b[0m \u001b[38;5;124;03m    The font-dictionary itself is suitable for the curious.\"\"\"\u001b[39;00m\n\u001b[1;32m---> 23\u001b[0m     ft: DictionaryObject \u001b[38;5;241m=\u001b[39m obj[\u001b[38;5;124m\"\u001b[39m\u001b[38;5;124m/Resources\u001b[39m\u001b[38;5;124m\"\u001b[39m][\u001b[38;5;124m\"\u001b[39m\u001b[38;5;124m/Font\u001b[39m\u001b[38;5;124m\"\u001b[39m][font_name]  \u001b[38;5;66;03m# type: ignore\u001b[39;00m\n\u001b[0;32m     24\u001b[0m     font_type: \u001b[38;5;28mstr\u001b[39m \u001b[38;5;241m=\u001b[39m cast(\u001b[38;5;28mstr\u001b[39m, ft[\u001b[38;5;124m\"\u001b[39m\u001b[38;5;124m/Subtype\u001b[39m\u001b[38;5;124m\"\u001b[39m])\n\u001b[0;32m     26\u001b[0m     space_code \u001b[38;5;241m=\u001b[39m \u001b[38;5;241m32\u001b[39m\n",
      "File \u001b[1;32m~\\AppData\\Local\\anaconda3\\Lib\\site-packages\\PyPDF2\\generic\\_data_structures.py:266\u001b[0m, in \u001b[0;36mDictionaryObject.__getitem__\u001b[1;34m(self, key)\u001b[0m\n\u001b[0;32m    265\u001b[0m \u001b[38;5;28;01mdef\u001b[39;00m \u001b[38;5;21m__getitem__\u001b[39m(\u001b[38;5;28mself\u001b[39m, key: Any) \u001b[38;5;241m-\u001b[39m\u001b[38;5;241m>\u001b[39m PdfObject:\n\u001b[1;32m--> 266\u001b[0m     \u001b[38;5;28;01mreturn\u001b[39;00m \u001b[38;5;28mdict\u001b[39m\u001b[38;5;241m.\u001b[39m\u001b[38;5;21m__getitem__\u001b[39m(\u001b[38;5;28mself\u001b[39m, key)\u001b[38;5;241m.\u001b[39mget_object()\n",
      "File \u001b[1;32m~\\AppData\\Local\\anaconda3\\Lib\\site-packages\\PyPDF2\\generic\\_base.py:259\u001b[0m, in \u001b[0;36mIndirectObject.get_object\u001b[1;34m(self)\u001b[0m\n\u001b[0;32m    258\u001b[0m \u001b[38;5;28;01mdef\u001b[39;00m \u001b[38;5;21mget_object\u001b[39m(\u001b[38;5;28mself\u001b[39m) \u001b[38;5;241m-\u001b[39m\u001b[38;5;241m>\u001b[39m Optional[\u001b[38;5;124m\"\u001b[39m\u001b[38;5;124mPdfObject\u001b[39m\u001b[38;5;124m\"\u001b[39m]:\n\u001b[1;32m--> 259\u001b[0m     obj \u001b[38;5;241m=\u001b[39m \u001b[38;5;28mself\u001b[39m\u001b[38;5;241m.\u001b[39mpdf\u001b[38;5;241m.\u001b[39mget_object(\u001b[38;5;28mself\u001b[39m)\n\u001b[0;32m    260\u001b[0m     \u001b[38;5;28;01mif\u001b[39;00m obj \u001b[38;5;129;01mis\u001b[39;00m \u001b[38;5;28;01mNone\u001b[39;00m:\n\u001b[0;32m    261\u001b[0m         \u001b[38;5;28;01mreturn\u001b[39;00m \u001b[38;5;28;01mNone\u001b[39;00m\n",
      "File \u001b[1;32m~\\AppData\\Local\\anaconda3\\Lib\\site-packages\\PyPDF2\\_reader.py:1217\u001b[0m, in \u001b[0;36mPdfReader.get_object\u001b[1;34m(self, indirect_reference)\u001b[0m\n\u001b[0;32m   1215\u001b[0m \u001b[38;5;28mself\u001b[39m\u001b[38;5;241m.\u001b[39mstream\u001b[38;5;241m.\u001b[39mseek(start, \u001b[38;5;241m0\u001b[39m)\n\u001b[0;32m   1216\u001b[0m \u001b[38;5;28;01mtry\u001b[39;00m:\n\u001b[1;32m-> 1217\u001b[0m     idnum, generation \u001b[38;5;241m=\u001b[39m \u001b[38;5;28mself\u001b[39m\u001b[38;5;241m.\u001b[39mread_object_header(\u001b[38;5;28mself\u001b[39m\u001b[38;5;241m.\u001b[39mstream)\n\u001b[0;32m   1218\u001b[0m \u001b[38;5;28;01mexcept\u001b[39;00m \u001b[38;5;167;01mException\u001b[39;00m:\n\u001b[0;32m   1219\u001b[0m     \u001b[38;5;28;01mif\u001b[39;00m \u001b[38;5;28mhasattr\u001b[39m(\u001b[38;5;28mself\u001b[39m\u001b[38;5;241m.\u001b[39mstream, \u001b[38;5;124m\"\u001b[39m\u001b[38;5;124mgetbuffer\u001b[39m\u001b[38;5;124m\"\u001b[39m):\n",
      "File \u001b[1;32m~\\AppData\\Local\\anaconda3\\Lib\\site-packages\\PyPDF2\\_reader.py:1338\u001b[0m, in \u001b[0;36mPdfReader.read_object_header\u001b[1;34m(self, stream)\u001b[0m\n\u001b[0;32m   1332\u001b[0m \u001b[38;5;28;01mdef\u001b[39;00m \u001b[38;5;21mread_object_header\u001b[39m(\u001b[38;5;28mself\u001b[39m, stream: StreamType) \u001b[38;5;241m-\u001b[39m\u001b[38;5;241m>\u001b[39m Tuple[\u001b[38;5;28mint\u001b[39m, \u001b[38;5;28mint\u001b[39m]:\n\u001b[0;32m   1333\u001b[0m     \u001b[38;5;66;03m# Should never be necessary to read out whitespace, since the\u001b[39;00m\n\u001b[0;32m   1334\u001b[0m     \u001b[38;5;66;03m# cross-reference table should put us in the right spot to read the\u001b[39;00m\n\u001b[0;32m   1335\u001b[0m     \u001b[38;5;66;03m# object header.  In reality... some files have stupid cross reference\u001b[39;00m\n\u001b[0;32m   1336\u001b[0m     \u001b[38;5;66;03m# tables that are off by whitespace bytes.\u001b[39;00m\n\u001b[0;32m   1337\u001b[0m     extra \u001b[38;5;241m=\u001b[39m \u001b[38;5;28;01mFalse\u001b[39;00m\n\u001b[1;32m-> 1338\u001b[0m     skip_over_comment(stream)\n\u001b[0;32m   1339\u001b[0m     extra \u001b[38;5;241m|\u001b[39m\u001b[38;5;241m=\u001b[39m skip_over_whitespace(stream)\n\u001b[0;32m   1340\u001b[0m     stream\u001b[38;5;241m.\u001b[39mseek(\u001b[38;5;241m-\u001b[39m\u001b[38;5;241m1\u001b[39m, \u001b[38;5;241m1\u001b[39m)\n",
      "File \u001b[1;32m~\\AppData\\Local\\anaconda3\\Lib\\site-packages\\PyPDF2\\_utils.py:137\u001b[0m, in \u001b[0;36mskip_over_comment\u001b[1;34m(stream)\u001b[0m\n\u001b[0;32m    136\u001b[0m \u001b[38;5;28;01mdef\u001b[39;00m \u001b[38;5;21mskip_over_comment\u001b[39m(stream: StreamType) \u001b[38;5;241m-\u001b[39m\u001b[38;5;241m>\u001b[39m \u001b[38;5;28;01mNone\u001b[39;00m:\n\u001b[1;32m--> 137\u001b[0m     tok \u001b[38;5;241m=\u001b[39m stream\u001b[38;5;241m.\u001b[39mread(\u001b[38;5;241m1\u001b[39m)\n\u001b[0;32m    138\u001b[0m     stream\u001b[38;5;241m.\u001b[39mseek(\u001b[38;5;241m-\u001b[39m\u001b[38;5;241m1\u001b[39m, \u001b[38;5;241m1\u001b[39m)\n\u001b[0;32m    139\u001b[0m     \u001b[38;5;28;01mif\u001b[39;00m tok \u001b[38;5;241m==\u001b[39m \u001b[38;5;124mb\u001b[39m\u001b[38;5;124m\"\u001b[39m\u001b[38;5;124m%\u001b[39m\u001b[38;5;124m\"\u001b[39m:\n",
      "\u001b[1;31mKeyboardInterrupt\u001b[0m: "
     ]
    }
   ],
   "source": [
    "import os\n",
    "import PyPDF2\n",
    "\n",
    "def search_word_in_pdfs(folder_path, search_word):\n",
    "    report = []\n",
    "    \n",
    "    # Gets the list of files in the specified folder\n",
    "    files = os.listdir(folder_path)\n",
    "    \n",
    "    # Iterates over each file in the folder\n",
    "    for file in files:\n",
    "        if file.endswith(\".pdf\"):  # Check if it is a PDF file\n",
    "            # Open the PDF file\n",
    "            with open(os.path.join(folder_path, file), \"rb\") as pdf_file:\n",
    "                pdf_reader = PyPDF2.PdfReader(pdf_file)\n",
    "                \n",
    "                # Iterates over each page of the PDF\n",
    "                for page_number in range(len(pdf_reader.pages)):\n",
    "                    page = pdf_reader.pages[page_number]\n",
    "                    \n",
    "                    # Checks if the indicated word is on the page\n",
    "                    if search_word.lower() in page.extract_text().lower():\n",
    "                        report.append(file)\n",
    "                        break\n",
    "                        \n",
    "    # Generates HTML content with links to PDF files\n",
    "    html_content = \"<html>\\n<head><title>Report</title></head>\\n<body>\\n\"\n",
    "    html_content += \"<h1>Files found:</h1>\"\n",
    "    for file in report:\n",
    "        # Creates the link to the PDF file\n",
    "        pdf_link = \"<a href='file://\" + os.path.join(folder_path, file) + \"'>\" + file + \"</a>\"\n",
    "        # Adds the link to the HTML content\n",
    "        html_content += \"<p>\" + pdf_link + \"</p>\"\n",
    "    html_content += \"<p>Total files found: \" + str(len(report)) + \"</p>\"\n",
    "    html_content += \"</body>\\n</html>\"\n",
    "    \n",
    "    # Generate the HTML file\n",
    "    with open(\"report.html\", \"w\") as html_file:\n",
    "        html_file.write(html_content)\n",
    "    \n",
    "    # Opens the HTML file in the default browser\n",
    "    import webbrowser\n",
    "    webbrowser.open(\"report.html\")\n",
    "\n",
    "# Collects the directory path where the script is located\n",
    "script_dir = os.getcwd()\n",
    "\n",
    "# Folder where PDF files are located\n",
    "folder_name = r\"Diários Oficiais SJC\"\n",
    "\n",
    "# Builds the full path to the PDFs folder\n",
    "folder_path = os.path.join(script_dir, folder_name)\n",
    "\n",
    "# Word to search for in PDF files\n",
    "search_word = \"Hiago Expedito\"\n",
    "\n",
    "# Call the function to search for the word in the PDF files and generate the report\n",
    "search_word_in_pdfs(folder_path, search_word)\n"
   ]
  }
 ],
 "metadata": {
  "kernelspec": {
   "display_name": "Python 3 (ipykernel)",
   "language": "python",
   "name": "python3"
  },
  "language_info": {
   "codemirror_mode": {
    "name": "ipython",
    "version": 3
   },
   "file_extension": ".py",
   "mimetype": "text/x-python",
   "name": "python",
   "nbconvert_exporter": "python",
   "pygments_lexer": "ipython3",
   "version": "3.11.7"
  }
 },
 "nbformat": 4,
 "nbformat_minor": 5
}
