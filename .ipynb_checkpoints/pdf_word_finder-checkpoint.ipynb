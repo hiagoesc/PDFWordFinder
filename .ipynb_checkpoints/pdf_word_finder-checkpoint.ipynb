{
 "cells": [
  {
   "cell_type": "code",
   "execution_count": 5,
   "id": "75ed0552-8b19-41ba-9917-d96beedfbebe",
   "metadata": {},
   "outputs": [
    {
     "ename": "FileNotFoundError",
     "evalue": "[WinError 3] O sistema não pode encontrar o caminho especificado: '..\\\\Diários Oficiais Caraguá'",
     "output_type": "error",
     "traceback": [
      "\u001b[1;31m---------------------------------------------------------------------------\u001b[0m",
      "\u001b[1;31mFileNotFoundError\u001b[0m                         Traceback (most recent call last)",
      "Cell \u001b[1;32mIn[5], line 52\u001b[0m\n\u001b[0;32m     49\u001b[0m search_word \u001b[38;5;241m=\u001b[39m \u001b[38;5;124m\"\u001b[39m\u001b[38;5;124mHiago Expedito\u001b[39m\u001b[38;5;124m\"\u001b[39m\n\u001b[0;32m     51\u001b[0m \u001b[38;5;66;03m# Call the function to search for the word in the PDF files and generate the report\u001b[39;00m\n\u001b[1;32m---> 52\u001b[0m search_word_in_pdfs(folder_path, search_word)\n",
      "Cell \u001b[1;32mIn[5], line 8\u001b[0m, in \u001b[0;36msearch_word_in_pdfs\u001b[1;34m(folder_path, search_word)\u001b[0m\n\u001b[0;32m      5\u001b[0m report \u001b[38;5;241m=\u001b[39m []\n\u001b[0;32m      7\u001b[0m \u001b[38;5;66;03m# Gets the list of files in the specified folder\u001b[39;00m\n\u001b[1;32m----> 8\u001b[0m files \u001b[38;5;241m=\u001b[39m os\u001b[38;5;241m.\u001b[39mlistdir(folder_path)\n\u001b[0;32m     10\u001b[0m \u001b[38;5;66;03m# Iterates over each file in the folder\u001b[39;00m\n\u001b[0;32m     11\u001b[0m \u001b[38;5;28;01mfor\u001b[39;00m file \u001b[38;5;129;01min\u001b[39;00m files:\n",
      "\u001b[1;31mFileNotFoundError\u001b[0m: [WinError 3] O sistema não pode encontrar o caminho especificado: '..\\\\Diários Oficiais Caraguá'"
     ]
    }
   ],
   "source": [
    "import os\n",
    "import PyPDF2\n",
    "\n",
    "def search_word_in_pdfs(folder_path, search_word):\n",
    "    report = []\n",
    "    \n",
    "    # Gets the list of files in the specified folder\n",
    "    files = os.listdir(folder_path)\n",
    "    \n",
    "    # Iterates over each file in the folder\n",
    "    for file in files:\n",
    "        if file.endswith(\".pdf\"):  # Check if it is a PDF file\n",
    "            # Open the PDF file\n",
    "            with open(os.path.join(folder_path, file), \"rb\") as pdf_file:\n",
    "                pdf_reader = PyPDF2.PdfReader(pdf_file)\n",
    "                \n",
    "                # Iterates over each page of the PDF\n",
    "                for page_number in range(len(pdf_reader.pages)):\n",
    "                    page = pdf_reader.pages[page_number]\n",
    "                    \n",
    "                    # Checks if the indicated word is on the page\n",
    "                    if search_word.lower() in page.extract_text().lower():\n",
    "                        report.append(file)\n",
    "                        break\n",
    "                        \n",
    "    # Generates HTML content with links to PDF files\n",
    "    html_content = \"<html>\\n<head><title>Report</title></head>\\n<body>\\n\"\n",
    "    html_content += \"<h1>Files found:</h1>\"\n",
    "    for file in report:\n",
    "        # Creates the link to the PDF file\n",
    "        pdf_link = \"<a href='file://\" + os.path.join(folder_path, file) + \"'>\" + file + \"</a>\"\n",
    "        # Adds the link to the HTML content\n",
    "        html_content += \"<p>\" + pdf_link + \"</p>\"\n",
    "    html_content += \"<p>Total files found: \" + str(len(report)) + \"</p>\"\n",
    "    html_content += \"</body>\\n</html>\"\n",
    "    \n",
    "    # Generate the HTML file\n",
    "    with open(\"report.html\", \"w\") as html_file:\n",
    "        html_file.write(html_content)\n",
    "    \n",
    "    # Opens the HTML file in the default browser\n",
    "    import webbrowser\n",
    "    webbrowser.open(\"report.html\")\n",
    "\n",
    "# Folder where PDF files are located\n",
    "folder_path = r\"\\Diários Oficiais SJC\"\n",
    "\n",
    "# Word to search for in PDF files\n",
    "search_word = \"Hiago Expedito\"\n",
    "\n",
    "# Call the function to search for the word in the PDF files and generate the report\n",
    "search_word_in_pdfs(folder_path, search_word)\n"
   ]
  }
 ],
 "metadata": {
  "kernelspec": {
   "display_name": "Python 3 (ipykernel)",
   "language": "python",
   "name": "python3"
  },
  "language_info": {
   "codemirror_mode": {
    "name": "ipython",
    "version": 3
   },
   "file_extension": ".py",
   "mimetype": "text/x-python",
   "name": "python",
   "nbconvert_exporter": "python",
   "pygments_lexer": "ipython3",
   "version": "3.11.7"
  }
 },
 "nbformat": 4,
 "nbformat_minor": 5
}
